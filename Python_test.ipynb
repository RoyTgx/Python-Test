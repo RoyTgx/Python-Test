{
 "cells": [
  {
   "cell_type": "markdown",
   "id": "7c38040b",
   "metadata": {},
   "source": [
    "## 1) )Write a program to count the sub_string from main string\n",
    "## Example:- A B C D C D C\n",
    "## Sub_string= C D C result =2"
   ]
  },
  {
   "cell_type": "code",
   "execution_count": 1,
   "id": "871db2d1",
   "metadata": {},
   "outputs": [
    {
     "name": "stdout",
     "output_type": "stream",
     "text": [
      "Sub_string = 'C D C' occurs 2 times in the main string.\n"
     ]
    }
   ],
   "source": [
    "def count_substring(main_string, sub_string):\n",
    "    count = 0\n",
    "    sub_len = len(sub_string)\n",
    "\n",
    "    for i in range(len(main_string) - sub_len + 1):\n",
    "        if main_string[i:i + sub_len] == sub_string:\n",
    "            count += 1\n",
    "    return count\n",
    "\n",
    "main_string = \"A B C D C D C\"\n",
    "sub_string = \"C D C\"\n",
    "result = count_substring(main_string.split(), sub_string.split())\n",
    "print(f\"Sub_string = '{sub_string}' occurs {result} times in the main string.\")\n"
   ]
  },
  {
   "cell_type": "markdown",
   "id": "7b93042a",
   "metadata": {},
   "source": [
    "## 2)Write a program to take 4 number and store in list [2,4,6,8] find the factorial of the each number of the list and store the value  in the list "
   ]
  },
  {
   "cell_type": "code",
   "execution_count": 2,
   "id": "a308ae48",
   "metadata": {},
   "outputs": [
    {
     "name": "stdout",
     "output_type": "stream",
     "text": [
      "Original list: [2, 4, 6, 8]\n",
      "List of factorials: [2, 24, 720, 40320]\n"
     ]
    }
   ],
   "source": [
    "import math\n",
    "numbers = [2, 4, 6, 8]\n",
    "factorials = []\n",
    "for number in numbers:\n",
    "    factorials.append(math.factorial(number))\n",
    "print(\"Original list:\", numbers)\n",
    "print(\"List of factorials:\", factorials)"
   ]
  },
  {
   "cell_type": "markdown",
   "id": "36f15bce",
   "metadata": {},
   "source": [
    "## 3)Create a strong password combining words, numbers and characters. (* )Keep creating the new password until you find one you like "
   ]
  },
  {
   "cell_type": "code",
   "execution_count": 3,
   "id": "a25bc035",
   "metadata": {},
   "outputs": [
    {
     "name": "stdout",
     "output_type": "stream",
     "text": [
      "Generated Password: [a9aovBrBo0vr\n",
      "Do you like this password? (yes/no): y\n",
      "Generating a new password...\n",
      "\n",
      "Generated Password: o0r>xtEctoF9oh\n",
      "Do you like this password? (yes/no): no\n",
      "Generating a new password...\n",
      "\n",
      "Generated Password: rtxvo(Fot2r7oBa\n",
      "Do you like this password? (yes/no): yes\n",
      "Password chosen!\n"
     ]
    }
   ],
   "source": [
    "import random\n",
    "import string\n",
    "\n",
    "def generate_password():\n",
    "    words = [\"Alpha\", \"Bravo\", \"Charlie\", \"Delta\", \"Echo\", \"Foxtrot\"]\n",
    "    numbers = [str(i) for i in range(10)]\n",
    "    special_characters = string.punctuation\n",
    "\n",
    "    password = (\n",
    "        random.choice(words) +\n",
    "        random.choice(numbers) +\n",
    "        random.choice(words) +\n",
    "        random.choice(special_characters) +\n",
    "        random.choice(numbers)\n",
    "    )\n",
    "    password = ''.join(random.sample(password, len(password)))\n",
    "    return password\n",
    "\n",
    "while True:\n",
    "    password = generate_password()\n",
    "    print(f\"Generated Password: {password}\")\n",
    "    \n",
    "    choice = input(\"Do you like this password? (yes/no): \").lower()\n",
    "    if choice == 'yes':\n",
    "        print(\"Password chosen!\")\n",
    "        break\n",
    "    else:\n",
    "        print(\"Generating a new password...\\n\")\n"
   ]
  },
  {
   "cell_type": "markdown",
   "id": "b690669e",
   "metadata": {},
   "source": [
    "## Checking of the vowels inside the string"
   ]
  },
  {
   "cell_type": "code",
   "execution_count": 4,
   "id": "fcbe2a41",
   "metadata": {},
   "outputs": [
    {
     "name": "stdout",
     "output_type": "stream",
     "text": [
      "Vowel 'a' occurs 1 times.\n",
      "Vowel 'e' occurs 2 times.\n",
      "Vowel 'i' occurs 0 times.\n",
      "Vowel 'o' occurs 4 times.\n",
      "Vowel 'u' occurs 1 times.\n"
     ]
    }
   ],
   "source": [
    "def count_vowels(input_string):\n",
    "    vowels = \"aeiou\"\n",
    "    vowel_count = {vowel: 0 for vowel in vowels}\n",
    "    input_string = input_string.lower()\n",
    "\n",
    "    for char in input_string:\n",
    "        if char in vowels:\n",
    "            vowel_count[char] += 1\n",
    "\n",
    "    return vowel_count\n",
    "\n",
    "input_string = \"Hello World, How Are You?\"\n",
    "\n",
    "result = count_vowels(input_string)\n",
    "\n",
    "for vowel, count in result.items():\n",
    "    print(f\"Vowel '{vowel}' occurs {count} times.\")"
   ]
  },
  {
   "cell_type": "markdown",
   "id": "174157b8",
   "metadata": {},
   "source": [
    "## 5)A python program to access each element of a string in forward and reverse orders using while loop "
   ]
  },
  {
   "cell_type": "code",
   "execution_count": 6,
   "id": "58070fb5",
   "metadata": {},
   "outputs": [
    {
     "name": "stdout",
     "output_type": "stream",
     "text": [
      "Accessing elements in forward order:\n",
      "P y t h o n \n",
      "\n",
      "Accessing elements in reverse order:\n",
      "n o h t y P "
     ]
    }
   ],
   "source": [
    "def access_string_elements(input_string):\n",
    "    print(\"Accessing elements in forward order:\")\n",
    "    i = 0\n",
    "    while i < len(input_string):\n",
    "        print(input_string[i], end=\" \")\n",
    "        i += 1\n",
    "    \n",
    "    print(\"\\n\") \n",
    "    print(\"Accessing elements in reverse order:\")\n",
    "    i = len(input_string) - 1\n",
    "    while i >= 0:\n",
    "        print(input_string[i], end=\" \")\n",
    "        i -= 1\n",
    "\n",
    "input_string = \"Python\"\n",
    "access_string_elements(input_string)"
   ]
  },
  {
   "cell_type": "markdown",
   "id": "c69adc58",
   "metadata": {},
   "source": [
    "## 6)Write a python program to know whether a sub- string exists in main string "
   ]
  },
  {
   "cell_type": "code",
   "execution_count": 7,
   "id": "e6b93560",
   "metadata": {},
   "outputs": [
    {
     "name": "stdout",
     "output_type": "stream",
     "text": [
      "The substring 'Python' exists in the main string.\n"
     ]
    }
   ],
   "source": [
    "def is_substring(main_string, sub_string):\n",
    "    if sub_string in main_string:\n",
    "        return True\n",
    "    else:\n",
    "        return False\n",
    "\n",
    "main_string = \"Hello, welcome to the world of Python programming!\"\n",
    "sub_string = \"Python\"\n",
    "\n",
    "if is_substring(main_string, sub_string):\n",
    "    print(f\"The substring '{sub_string}' exists in the main string.\")\n",
    "else:\n",
    "    print(f\"The substring '{sub_string}' does not exist in the main string.\")\n"
   ]
  },
  {
   "cell_type": "markdown",
   "id": "0487802a",
   "metadata": {},
   "source": [
    "## A python program to find the first occurrences of sub string in a given main string"
   ]
  },
  {
   "cell_type": "code",
   "execution_count": 9,
   "id": "46e136b0",
   "metadata": {},
   "outputs": [
    {
     "name": "stdout",
     "output_type": "stream",
     "text": [
      "The first occurrence of the substring 'Python' is at index: 31\n"
     ]
    }
   ],
   "source": [
    "def find_first_occurrence(main_string, sub_string):\n",
    "    index = main_string.find(sub_string)\n",
    "    \n",
    "    if index != -1:\n",
    "        return index\n",
    "    else:\n",
    "        return \"Substring not found.\"\n",
    "\n",
    "main_string = \"Hello, welcome to the world of Python programming!\"\n",
    "sub_string = \"Python\"\n",
    "\n",
    "result = find_first_occurrence(main_string, sub_string)\n",
    "print(f\"The first occurrence of the substring '{sub_string}' is at index: {result}\")"
   ]
  },
  {
   "cell_type": "markdown",
   "id": "2bc562af",
   "metadata": {},
   "source": [
    "## Generate an infinite fibonacchi series by using generator yield"
   ]
  },
  {
   "cell_type": "code",
   "execution_count": 10,
   "id": "1ac4abed",
   "metadata": {},
   "outputs": [
    {
     "name": "stdout",
     "output_type": "stream",
     "text": [
      "0\n",
      "1\n",
      "1\n",
      "2\n",
      "3\n",
      "5\n",
      "8\n",
      "13\n",
      "21\n",
      "34\n"
     ]
    }
   ],
   "source": [
    "def infinite_fibonacci():\n",
    "    a, b = 0, 1\n",
    "    while True:\n",
    "        yield a\n",
    "        a, b = b, a + b\n",
    "fib_generator = infinite_fibonacci()\n",
    "for _ in range(10):\n",
    "    print(next(fib_generator))\n"
   ]
  },
  {
   "cell_type": "code",
   "execution_count": null,
   "id": "6bb2a5d8",
   "metadata": {},
   "outputs": [],
   "source": []
  }
 ],
 "metadata": {
  "kernelspec": {
   "display_name": "Python 3 (ipykernel)",
   "language": "python",
   "name": "python3"
  },
  "language_info": {
   "codemirror_mode": {
    "name": "ipython",
    "version": 3
   },
   "file_extension": ".py",
   "mimetype": "text/x-python",
   "name": "python",
   "nbconvert_exporter": "python",
   "pygments_lexer": "ipython3",
   "version": "3.10.9"
  }
 },
 "nbformat": 4,
 "nbformat_minor": 5
}
